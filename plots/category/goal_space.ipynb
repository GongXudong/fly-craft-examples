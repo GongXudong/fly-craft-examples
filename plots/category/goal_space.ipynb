{
 "cells": [
  {
   "cell_type": "code",
   "execution_count": 1,
   "metadata": {},
   "outputs": [
    {
     "data": {
      "text/plain": [
       "PosixPath('/home/sen/pythonprojects/fly-craft-examples')"
      ]
     },
     "execution_count": 1,
     "metadata": {},
     "output_type": "execute_result"
    }
   ],
   "source": [
    "from pathlib import Path\n",
    "import pandas as pd\n",
    "import numpy as np\n",
    "import matplotlib.pyplot as plt\n",
    "import seaborn as sns\n",
    "from typing import List\n",
    "import matplotlib\n",
    "from scipy.ndimage import gaussian_filter1d\n",
    "# plt.style.use('ggplot')\n",
    "sns.set_theme(context=\"notebook\", style=\"darkgrid\")\n",
    "sns.set(font_scale=2.5)\n",
    "\n",
    "PROJECT_ROOT_DIR = Path().absolute().parent.parent\n",
    "PROJECT_ROOT_DIR"
   ]
  },
  {
   "cell_type": "code",
   "execution_count": 2,
   "metadata": {},
   "outputs": [],
   "source": [
    "def load_data(algo: str, filename: str, seed_str: str, insert_no: int=19, algo_dir: str=\"rl\", smooth_success_rate: bool=True):\n",
    "    df = pd.read_csv(PROJECT_ROOT_DIR / \"logs\" / algo_dir / filename / \"progress.csv\")\n",
    "    df = df[pd.notnull(df[\"eval/success_rate\"])]\n",
    "    df.insert(insert_no, \"seed\", [seed_str] * len(df))\n",
    "    df.insert(insert_no+1, \"algo\", [algo] * len(df))\n",
    "\n",
    "    # 平滑！！！\n",
    "    if smooth_success_rate:\n",
    "        # df[\"eval/success_rate\"] = smooth(df[\"eval/success_rate\"], 5)\n",
    "        df[\"eval/success_rate\"] = gaussian_filter1d(df[\"eval/success_rate\"], sigma=1)\n",
    "\n",
    "    return df"
   ]
  },
  {
   "cell_type": "code",
   "execution_count": 3,
   "metadata": {},
   "outputs": [],
   "source": [
    "def load_two_stage_data(algo: str, first_stage_filename: str,second_stage_filename:str, seed_str: str, insert_no: int=19, algo_dir: str=\"rl\", smooth_success_rate: bool=True, time_steps_add_to_sec_stage: int=500000):\n",
    "    df_first_stage = pd.read_csv(PROJECT_ROOT_DIR / \"logs\" / algo_dir / first_stage_filename / \"progress.csv\")\n",
    "    df_first_stage = df_first_stage[pd.notnull(df_first_stage[\"eval/success_rate\"])]\n",
    "\n",
    "    df_second_stage = pd.read_csv(PROJECT_ROOT_DIR / \"logs\" / algo_dir / second_stage_filename / \"progress.csv\")\n",
    "    df_second_stage = df_second_stage[pd.notnull(df_second_stage[\"eval/success_rate\"])]\n",
    "\n",
    "    df_second_stage[\"time/total_timesteps\"] = df_second_stage[\"time/total_timesteps\"] + time_steps_add_to_sec_stage\n",
    "    \n",
    "    merge_df = pd.concat([df_first_stage,df_second_stage],ignore_index=True)\n",
    "    merge_df.insert(insert_no, \"seed\", [seed_str] * len(merge_df))\n",
    "    merge_df.insert(insert_no+1, \"algo\", [algo] * len(merge_df))\n",
    "\n",
    "\n",
    "    # 平滑！！！\n",
    "    if smooth_success_rate:\n",
    "        # df[\"eval/success_rate\"] = smooth(df[\"eval/success_rate\"], 5)\n",
    "        merge_df[\"eval/success_rate\"] = gaussian_filter1d(merge_df[\"eval/success_rate\"], sigma=1)\n",
    "\n",
    "    return merge_df"
   ]
  },
  {
   "cell_type": "code",
   "execution_count": 4,
   "metadata": {},
   "outputs": [],
   "source": [
    "def load_three_stage_data(algo: str, first_stage_filename: str,second_stage_filename:str, three_stage_filename:str, seed_str: str, insert_no: int=19, algo_dir: str=\"rl\", smooth_success_rate: bool=True, time_steps_add_to_sec_stage: int=500000):\n",
    "    df_first_stage = pd.read_csv(PROJECT_ROOT_DIR / \"logs\" / algo_dir / first_stage_filename / \"progress.csv\")\n",
    "    df_first_stage = df_first_stage[pd.notnull(df_first_stage[\"eval/success_rate\"])]\n",
    "\n",
    "    df_second_stage = pd.read_csv(PROJECT_ROOT_DIR / \"logs\" / algo_dir / second_stage_filename / \"progress.csv\")\n",
    "    df_second_stage = df_second_stage[pd.notnull(df_second_stage[\"eval/success_rate\"])]\n",
    "    df_second_stage[\"time/total_timesteps\"] = df_second_stage[\"time/total_timesteps\"] + time_steps_add_to_sec_stage\n",
    "    \n",
    "    df_three_stage = pd.read_csv(PROJECT_ROOT_DIR / \"logs\" / algo_dir / three_stage_filename / \"progress.csv\")\n",
    "    df_three_stage = df_three_stage[pd.notnull(df_three_stage[\"eval/success_rate\"])]\n",
    "\n",
    "    df_three_stage[\"time/total_timesteps\"] = df_three_stage[\"time/total_timesteps\"] + 2*time_steps_add_to_sec_stage\n",
    "\n",
    "    merge_df = pd.concat([df_first_stage,df_second_stage,df_three_stage],ignore_index=True)\n",
    "    merge_df.insert(insert_no, \"seed\", [seed_str] * len(merge_df))\n",
    "    merge_df.insert(insert_no+1, \"algo\", [algo] * len(merge_df))\n",
    "\n",
    "\n",
    "    # 平滑！！！\n",
    "    if smooth_success_rate:\n",
    "        # df[\"eval/success_rate\"] = smooth(df[\"eval/success_rate\"], 5)\n",
    "        merge_df[\"eval/success_rate\"] = gaussian_filter1d(merge_df[\"eval/success_rate\"], sigma=1)\n",
    "\n",
    "    return merge_df"
   ]
  },
  {
   "cell_type": "code",
   "execution_count": 5,
   "metadata": {},
   "outputs": [],
   "source": [
    "SMOOTH = True"
   ]
  },
  {
   "cell_type": "code",
   "execution_count": 6,
   "metadata": {},
   "outputs": [],
   "source": [
    "def load_data_add_step(algo: str, filename: str, seed_str: str, insert_no: int=19, algo_dir: str=\"rl\" ,smooth_success_rate: bool=True, time_steps_add:int=500000):\n",
    "    df = pd.read_csv(PROJECT_ROOT_DIR / \"logs\" / algo_dir / filename / \"progress.csv\")\n",
    "    df = df[pd.notnull(df[\"eval/success_rate\"])]\n",
    "    df.insert(insert_no, \"seed\", [seed_str] * len(df))\n",
    "    df.insert(insert_no+1, \"algo\", [algo] * len(df))\n",
    "    df[\"time/total_timesteps\"] = df[\"time/total_timesteps\"] + time_steps_add\n",
    "\n",
    "    # 平滑！！！\n",
    "    if smooth_success_rate:\n",
    "        # df[\"eval/success_rate\"] = smooth(df[\"eval/success_rate\"], 5)\n",
    "        df[\"eval/success_rate\"] = gaussian_filter1d(df[\"eval/success_rate\"], sigma=1)\n",
    "\n",
    "    return df"
   ]
  },
  {
   "cell_type": "markdown",
   "metadata": {},
   "source": []
  }
 ],
 "metadata": {
  "kernelspec": {
   "display_name": "new_gymnasium",
   "language": "python",
   "name": "python3"
  },
  "language_info": {
   "codemirror_mode": {
    "name": "ipython",
    "version": 3
   },
   "file_extension": ".py",
   "mimetype": "text/x-python",
   "name": "python",
   "nbconvert_exporter": "python",
   "pygments_lexer": "ipython3",
   "version": "3.12.0"
  }
 },
 "nbformat": 4,
 "nbformat_minor": 2
}
