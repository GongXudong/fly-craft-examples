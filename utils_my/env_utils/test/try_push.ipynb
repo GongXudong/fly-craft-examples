{
 "cells": [
  {
   "cell_type": "code",
   "execution_count": 1,
   "metadata": {},
   "outputs": [
    {
     "name": "stderr",
     "output_type": "stream",
     "text": [
      "pybullet build time: Jan 18 2025 12:38:40\n"
     ]
    },
    {
     "data": {
      "text/plain": [
       "PosixPath('/home/ucav/PythonProjects/discontinuity')"
      ]
     },
     "execution_count": 1,
     "metadata": {},
     "output_type": "execute_result"
    }
   ],
   "source": [
    "import sys\n",
    "from pathlib import Path\n",
    "import gymnasium as gym\n",
    "\n",
    "PROJECT_ROOT_DIR = Path().absolute().parent.parent.parent\n",
    "if str(PROJECT_ROOT_DIR.absolute()) not in sys.path:\n",
    "    sys.path.append(str(PROJECT_ROOT_DIR.absolute()))\n",
    "\n",
    "from utils_my.env_utils.register_env import register_my_push_env\n",
    "from scripts_evaluation.utils.reset_panda_reach_utils import get_lower_bound_of_desired_goal, get_upper_bound_of_desired_goal\n",
    "\n",
    "register_my_push_env(reward_type=\"dense\", control_type=\"joints\", distance_threshold=0.01, goal_xy_range=0.5, obj_xy_range=0.0, max_episode_steps=50)\n",
    "\n",
    "PROJECT_ROOT_DIR"
   ]
  },
  {
   "cell_type": "code",
   "execution_count": 2,
   "metadata": {},
   "outputs": [
    {
     "name": "stdout",
     "output_type": "stream",
     "text": [
      "argv[0]=--background_color_red=0.8745098114013672\n",
      "argv[1]=--background_color_green=0.21176470816135406\n",
      "argv[2]=--background_color_blue=0.1764705926179886\n"
     ]
    }
   ],
   "source": [
    "env = gym.make(\"my-push\")"
   ]
  },
  {
   "cell_type": "code",
   "execution_count": 3,
   "metadata": {},
   "outputs": [
    {
     "data": {
      "text/plain": [
       "(array([-0.25, -0.25,  0.  ]), array([0.25, 0.25, 0.  ]))"
      ]
     },
     "execution_count": 3,
     "metadata": {},
     "output_type": "execute_result"
    }
   ],
   "source": [
    "get_lower_bound_of_desired_goal(env), get_upper_bound_of_desired_goal(env)"
   ]
  },
  {
   "cell_type": "code",
   "execution_count": 4,
   "metadata": {},
   "outputs": [
    {
     "data": {
      "text/plain": [
       "(array([-0., -0.,  0.]), array([0., 0., 0.]))"
      ]
     },
     "execution_count": 4,
     "metadata": {},
     "output_type": "execute_result"
    }
   ],
   "source": [
    "env.unwrapped.task.obj_range_low, env.unwrapped.task.obj_range_high"
   ]
  },
  {
   "cell_type": "code",
   "execution_count": null,
   "metadata": {},
   "outputs": [],
   "source": []
  }
 ],
 "metadata": {
  "kernelspec": {
   "display_name": "new_gymnasium",
   "language": "python",
   "name": "python3"
  },
  "language_info": {
   "codemirror_mode": {
    "name": "ipython",
    "version": 3
   },
   "file_extension": ".py",
   "mimetype": "text/x-python",
   "name": "python",
   "nbconvert_exporter": "python",
   "pygments_lexer": "ipython3",
   "version": "3.12.0"
  },
  "orig_nbformat": 4,
  "vscode": {
   "interpreter": {
    "hash": "c428f655522326d8e16670bcb62c5fd00ae500685aa51fb250f930bb41f60e6e"
   }
  }
 },
 "nbformat": 4,
 "nbformat_minor": 2
}
