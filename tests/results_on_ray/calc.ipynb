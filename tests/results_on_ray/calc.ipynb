{
 "cells": [
  {
   "cell_type": "code",
   "execution_count": 19,
   "metadata": {},
   "outputs": [],
   "source": [
    "import pandas as pd"
   ]
  },
  {
   "attachments": {},
   "cell_type": "markdown",
   "metadata": {},
   "source": [
    "## FlyCraft"
   ]
  },
  {
   "cell_type": "code",
   "execution_count": 21,
   "metadata": {},
   "outputs": [
    {
     "data": {
      "text/plain": [
       "(566.3687000000001, 522.510716)"
      ]
     },
     "execution_count": 21,
     "metadata": {},
     "output_type": "execute_result"
    }
   ],
   "source": [
    "ray_1 = pd.read_csv(\"PPO_FlyCraft-v1_1_rollout_worker_2e5_steps/progress.csv\")\n",
    "ray_1[\"timers/sample_time_ms\"].sum() / 1000, ray_1[\"timers/learn_time_ms\"].sum() /1000"
   ]
  },
  {
   "cell_type": "code",
   "execution_count": 20,
   "metadata": {},
   "outputs": [
    {
     "data": {
      "text/plain": [
       "(22.011263, 534.9624699999999)"
      ]
     },
     "execution_count": 20,
     "metadata": {},
     "output_type": "execute_result"
    }
   ],
   "source": [
    "ray_128 = pd.read_csv(\"PPO_FlyCraft-v1_128_rollout_workers_2e5_steps/progress.csv\")\n",
    "ray_128[\"timers/sample_time_ms\"].sum() / 1000, ray_128[\"timers/learn_time_ms\"].sum() /1000"
   ]
  },
  {
   "attachments": {},
   "cell_type": "markdown",
   "metadata": {},
   "source": [
    "## Acrobot"
   ]
  },
  {
   "cell_type": "code",
   "execution_count": 22,
   "metadata": {},
   "outputs": [
    {
     "data": {
      "text/plain": [
       "(248.27271599999997, 487.470288)"
      ]
     },
     "execution_count": 22,
     "metadata": {},
     "output_type": "execute_result"
    }
   ],
   "source": [
    "ray_1 = pd.read_csv(\"PPO_Acrobot-v1_1_rollout_worker_2e5_steps/progress.csv\")\n",
    "ray_1[\"timers/sample_time_ms\"].sum() / 1000, ray_1[\"timers/learn_time_ms\"].sum() /1000"
   ]
  },
  {
   "cell_type": "code",
   "execution_count": 23,
   "metadata": {},
   "outputs": [
    {
     "data": {
      "text/plain": [
       "(12.952869, 495.567743)"
      ]
     },
     "execution_count": 23,
     "metadata": {},
     "output_type": "execute_result"
    }
   ],
   "source": [
    "ray_128 = pd.read_csv(\"PPO_Acrobot-v1_128_rollout_workers_2e5_steps/progress.csv\")\n",
    "ray_128[\"timers/sample_time_ms\"].sum() / 1000, ray_128[\"timers/learn_time_ms\"].sum() /1000"
   ]
  }
 ],
 "metadata": {
  "kernelspec": {
   "display_name": "dcs_py38",
   "language": "python",
   "name": "python3"
  },
  "language_info": {
   "codemirror_mode": {
    "name": "ipython",
    "version": 3
   },
   "file_extension": ".py",
   "mimetype": "text/x-python",
   "name": "python",
   "nbconvert_exporter": "python",
   "pygments_lexer": "ipython3",
   "version": "3.8.13"
  },
  "orig_nbformat": 4,
  "vscode": {
   "interpreter": {
    "hash": "9aabd176a0f50fb7955ff2f90c45e48e18b6943f41a6242db6acd9cab2d045db"
   }
  }
 },
 "nbformat": 4,
 "nbformat_minor": 2
}
