{
 "cells": [
  {
   "cell_type": "code",
   "execution_count": 9,
   "metadata": {},
   "outputs": [],
   "source": [
    "from evaluate_with_distance_dict import evaluate_distance\n",
    "from pathlib import Path\n",
    "import sys\n",
    "\n",
    "PROJECT_ROOT_DIR = Path().absolute().parent\n",
    "if str(PROJECT_ROOT_DIR.absolute()) not in sys.path:\n",
    "    sys.path.append(str(PROJECT_ROOT_DIR.absolute()))\n"
   ]
  },
  {
   "cell_type": "markdown",
   "metadata": {},
   "source": [
    "# reach b2 to b05  first stage distance = 0.01"
   ]
  },
  {
   "cell_type": "code",
   "execution_count": 11,
   "metadata": {},
   "outputs": [
    {
     "name": "stdout",
     "output_type": "stream",
     "text": [
      "argv[0]=--background_color_red=0.8745098114013672\n",
      "argv[1]=--background_color_green=0.21176470816135406\n",
      "argv[2]=--background_color_blue=0.1764705926179886\n",
      "Wrapping the env with a `Monitor` wrapper\n",
      "Wrapping the env in a DummyVecEnv.\n",
      "Episode 1/1000 completed\n",
      "Episode 101/1000 completed\n",
      "Episode 201/1000 completed\n",
      "Episode 301/1000 completed\n",
      "Episode 401/1000 completed\n",
      "Episode 501/1000 completed\n",
      "Episode 601/1000 completed\n",
      "Episode 701/1000 completed\n",
      "Episode 801/1000 completed\n",
      "Episode 901/1000 completed\n",
      "Evaluation on /home/sen/pythonprojects/fly-craft-examples/checkpoints/D2D/panda_reach_dense/distance_threshold_0_01/her/two_stage_relative_hard_b_2_b_05/sac_her_10hz_128_128_b_2_5e4steps_seed_1_singleRL\n",
      "Success rate = 0.309, Fail episodes number = 691, Average distance = 0.04926868389453739, Total distance = 49.26868389453739\n"
     ]
    }
   ],
   "source": [
    "# 定义参数字典\n",
    "args = {\n",
    "    \"env_id\": \"my-reach\",\n",
    "    \"env_beta\": 2.0,\n",
    "    \"n_eval_episodes\": 1000,\n",
    "    \"algo_ckpt_dir\": str(PROJECT_ROOT_DIR)+\"/\"+\"checkpoints/D2D/panda_reach_dense/distance_threshold_0_01/her/two_stage_relative_hard_b_2_b_05/sac_her_10hz_128_128_b_2_5e4steps_seed_1_singleRL\", #\"checkpoints/D2D/panda_reach_dense/distance_threshold_0_01/her/two_stage_relative_hard_b_2_b_05/sac_her_10hz_128_128_b_2_5e4steps_seed_1_singleRL\",\n",
    "    \"algo_ckpt_model_name\": \"best_model\",\n",
    "    \"res_file_save_name\": \"logs/D2D/panda_reach_dense/distance_threshold_0_01/her/two_stage_relative_hard_b_2_b_05/sac_her_10hz_128_128_b_2_5e4steps_seed_1_singleRL\"\n",
    "}\n",
    "\n",
    "# 调用 evaluate_distance 函数\n",
    "evaluate_distance(args)"
   ]
  },
  {
   "cell_type": "markdown",
   "metadata": {},
   "source": [
    "# reach b2 to b05  second stage distance = 0.01"
   ]
  },
  {
   "cell_type": "code",
   "execution_count": 13,
   "metadata": {},
   "outputs": [
    {
     "name": "stdout",
     "output_type": "stream",
     "text": [
      "argv[0]=--background_color_red=0.8745098114013672\n",
      "argv[1]=--background_color_green=0.21176470816135406\n",
      "argv[2]=--background_color_blue=0.1764705926179886\n",
      "Wrapping the env with a `Monitor` wrapper\n",
      "Wrapping the env in a DummyVecEnv.\n",
      "Episode 1/1000 completed\n",
      "Episode 101/1000 completed\n",
      "Episode 201/1000 completed\n",
      "Episode 301/1000 completed\n",
      "Episode 401/1000 completed\n",
      "Episode 501/1000 completed\n",
      "Episode 601/1000 completed\n",
      "Episode 701/1000 completed\n",
      "Episode 801/1000 completed\n",
      "Episode 901/1000 completed\n",
      "Evaluation on /home/sen/pythonprojects/fly-craft-examples/checkpoints/D2D/panda_reach_dense/distance_threshold_0_01/her/two_stage_relative_hard_b_2_b_05/sac_her_10hz_128_128_b_2_5e4_b_05_5e4steps_seed_1_singleRL\n",
      "Success rate = 0.806, Fail episodes number = 194, Average distance = 0.015135896419174968, Total distance = 15.13589641917497\n"
     ]
    }
   ],
   "source": [
    "# 定义参数字典\n",
    "args = {\n",
    "    \"env_id\": \"my-reach\",\n",
    "    \"env_beta\": 0.5,\n",
    "    \"n_eval_episodes\": 1000,\n",
    "    \"algo_ckpt_dir\": str(PROJECT_ROOT_DIR)+\"/\"+\"checkpoints/D2D/panda_reach_dense/distance_threshold_0_01/her/two_stage_relative_hard_b_2_b_05/sac_her_10hz_128_128_b_2_5e4_b_05_5e4steps_seed_1_singleRL\", #\"checkpoints/D2D/panda_reach_dense/distance_threshold_0_01/her/two_stage_relative_hard_b_2_b_05/sac_her_10hz_128_128_b_2_5e4steps_seed_1_singleRL\",\n",
    "    \"algo_ckpt_model_name\": \"best_model\",\n",
    "    \"res_file_save_name\": \"logs/D2D/panda_reach_dense/distance_threshold_0_01/her/two_stage_relative_hard_b_2_b_05/sac_her_10hz_128_128_b_2_5e4_b_05_5e4steps_seed_1_singleRL\"\n",
    "}\n",
    "\n",
    "# 调用 evaluate_distance 函数\n",
    "evaluate_distance(args)"
   ]
  },
  {
   "cell_type": "markdown",
   "metadata": {},
   "source": [
    "# reach b2 1e5 distance = 0.01"
   ]
  },
  {
   "cell_type": "code",
   "execution_count": 14,
   "metadata": {},
   "outputs": [
    {
     "name": "stdout",
     "output_type": "stream",
     "text": [
      "argv[0]=--background_color_red=0.8745098114013672\n",
      "argv[1]=--background_color_green=0.21176470816135406\n",
      "argv[2]=--background_color_blue=0.1764705926179886\n",
      "Wrapping the env with a `Monitor` wrapper\n",
      "Wrapping the env in a DummyVecEnv.\n",
      "Episode 1/1000 completed\n",
      "Episode 101/1000 completed\n",
      "Episode 201/1000 completed\n",
      "Episode 301/1000 completed\n",
      "Episode 401/1000 completed\n",
      "Episode 501/1000 completed\n",
      "Episode 601/1000 completed\n",
      "Episode 701/1000 completed\n",
      "Episode 801/1000 completed\n",
      "Episode 901/1000 completed\n",
      "Evaluation on /home/sen/pythonprojects/fly-craft-examples/checkpoints/D2D/panda_reach_dense/distance_threshold_0_01/her/b_2/sac_her_10hz_128_128_b_2_1e5steps_seed_1_singleRL\n",
      "Success rate = 0.576, Fail episodes number = 424, Average distance = 0.015963163973763586, Total distance = 15.963163973763585\n"
     ]
    }
   ],
   "source": [
    "# 定义参数字典\n",
    "args = {\n",
    "    \"env_id\": \"my-reach\",\n",
    "    \"env_beta\": 2.0,\n",
    "    \"n_eval_episodes\": 1000,\n",
    "    \"algo_ckpt_dir\": str(PROJECT_ROOT_DIR)+\"/\"+\"checkpoints/D2D/panda_reach_dense/distance_threshold_0_01/her/b_2/sac_her_10hz_128_128_b_2_1e5steps_seed_1_singleRL\", #\"checkpoints/D2D/panda_reach_dense/distance_threshold_0_01/her/two_stage_relative_hard_b_2_b_05/sac_her_10hz_128_128_b_2_5e4steps_seed_1_singleRL\",\n",
    "    \"algo_ckpt_model_name\": \"best_model\",\n",
    "    \"res_file_save_name\": \"logs/D2D/panda_reach_dense/distance_threshold_0_01/her/b_2/sac_her_10hz_128_128_b_2_1e5steps_seed_1_singleRL\"\n",
    "}\n",
    "\n",
    "# 调用 evaluate_distance 函数\n",
    "evaluate_distance(args)"
   ]
  },
  {
   "cell_type": "markdown",
   "metadata": {},
   "source": [
    "# reach b1 1e5 distance = 0.01"
   ]
  },
  {
   "cell_type": "code",
   "execution_count": 15,
   "metadata": {},
   "outputs": [
    {
     "name": "stdout",
     "output_type": "stream",
     "text": [
      "argv[0]=--background_color_red=0.8745098114013672\n",
      "argv[1]=--background_color_green=0.21176470816135406\n",
      "argv[2]=--background_color_blue=0.1764705926179886\n",
      "Wrapping the env with a `Monitor` wrapper\n",
      "Wrapping the env in a DummyVecEnv.\n",
      "Episode 1/1000 completed\n",
      "Episode 101/1000 completed\n",
      "Episode 201/1000 completed\n",
      "Episode 301/1000 completed\n",
      "Episode 401/1000 completed\n",
      "Episode 501/1000 completed\n",
      "Episode 601/1000 completed\n",
      "Episode 701/1000 completed\n",
      "Episode 801/1000 completed\n",
      "Episode 901/1000 completed\n",
      "Evaluation on /home/sen/pythonprojects/fly-craft-examples/checkpoints/D2D/panda_reach_dense/distance_threshold_0_01/her/b_1/sac_her_10hz_128_128_b_1_1e5steps_seed_1_singleRL\n",
      "Success rate = 0.982, Fail episodes number = 18, Average distance = 0.0005754414182156325, Total distance = 0.5754414182156324\n"
     ]
    }
   ],
   "source": [
    "# 定义参数字典\n",
    "args = {\n",
    "    \"env_id\": \"my-reach\",\n",
    "    \"env_beta\": 1.0,\n",
    "    \"n_eval_episodes\": 1000,\n",
    "    \"algo_ckpt_dir\": str(PROJECT_ROOT_DIR)+\"/\"+\"checkpoints/D2D/panda_reach_dense/distance_threshold_0_01/her/b_1/sac_her_10hz_128_128_b_1_1e5steps_seed_1_singleRL\", #\"checkpoints/D2D/panda_reach_dense/distance_threshold_0_01/her/two_stage_relative_hard_b_2_b_05/sac_her_10hz_128_128_b_2_5e4steps_seed_1_singleRL\",\n",
    "    \"algo_ckpt_model_name\": \"best_model\",\n",
    "    \"res_file_save_name\": \"logs/D2D/panda_reach_dense/distance_threshold_0_01/her/b_1/sac_her_10hz_128_128_b_1_1e5steps_seed_1_singleRL\"\n",
    "}\n",
    "\n",
    "# 调用 evaluate_distance 函数\n",
    "evaluate_distance(args)"
   ]
  },
  {
   "cell_type": "markdown",
   "metadata": {},
   "source": [
    "# reach b 0.5 1e5 distance = 0.01"
   ]
  },
  {
   "cell_type": "code",
   "execution_count": 16,
   "metadata": {},
   "outputs": [
    {
     "name": "stdout",
     "output_type": "stream",
     "text": [
      "argv[0]=--background_color_red=0.8745098114013672\n",
      "argv[1]=--background_color_green=0.21176470816135406\n",
      "argv[2]=--background_color_blue=0.1764705926179886\n",
      "Wrapping the env with a `Monitor` wrapper\n",
      "Wrapping the env in a DummyVecEnv.\n",
      "Episode 1/1000 completed\n",
      "Episode 101/1000 completed\n",
      "Episode 201/1000 completed\n",
      "Episode 301/1000 completed\n",
      "Episode 401/1000 completed\n",
      "Episode 501/1000 completed\n",
      "Episode 601/1000 completed\n",
      "Episode 701/1000 completed\n",
      "Episode 801/1000 completed\n",
      "Episode 901/1000 completed\n",
      "Evaluation on /home/sen/pythonprojects/fly-craft-examples/checkpoints/D2D/panda_reach_dense/distance_threshold_0_01/her/b_05/sac_her_10hz_128_128_b_05_1e5steps_seed_1_singleRL\n",
      "Success rate = 1.0, Fail episodes number = 0, Average distance = 0, Total distance = 0\n"
     ]
    }
   ],
   "source": [
    "# 定义参数字典\n",
    "args = {\n",
    "    \"env_id\": \"my-reach\",\n",
    "    \"env_beta\": 0.5,\n",
    "    \"n_eval_episodes\": 1000,\n",
    "    \"algo_ckpt_dir\": str(PROJECT_ROOT_DIR)+\"/\"+\"checkpoints/D2D/panda_reach_dense/distance_threshold_0_01/her/b_05/sac_her_10hz_128_128_b_05_1e5steps_seed_1_singleRL\", #\"checkpoints/D2D/panda_reach_dense/distance_threshold_0_01/her/two_stage_relative_hard_b_2_b_05/sac_her_10hz_128_128_b_2_5e4steps_seed_1_singleRL\",\n",
    "    \"algo_ckpt_model_name\": \"best_model\",\n",
    "    \"res_file_save_name\": \"logs/D2D/panda_reach_dense/distance_threshold_0_01/her/b_05/sac_her_10hz_128_128_b_05_1e5steps_seed_1_singleRL\"\n",
    "}\n",
    "\n",
    "# 调用 evaluate_distance 函数\n",
    "evaluate_distance(args)"
   ]
  },
  {
   "cell_type": "markdown",
   "metadata": {},
   "source": [
    "# Distance 0.005"
   ]
  },
  {
   "cell_type": "code",
   "execution_count": null,
   "metadata": {},
   "outputs": [],
   "source": [
    "# 定义参数字典\n",
    "# args = {\n",
    "#     \"env_id\": \"my-reach\",\n",
    "#     \"env_beta\": 1.0,\n",
    "#     \"n_eval_episodes\": 1000,\n",
    "#     \"algo_ckpt_dir\": str(PROJECT_ROOT_DIR)+\"/\"+\"checkpoints/D2D/panda_reach_dense/distance_threshold_0_01/her/b_1/sac_her_10hz_128_128_b_1_1e5steps_seed_1_singleRL\", #\"checkpoints/D2D/panda_reach_dense/distance_threshold_0_01/her/two_stage_relative_hard_b_2_b_05/sac_her_10hz_128_128_b_2_5e4steps_seed_1_singleRL\",\n",
    "#     \"algo_ckpt_model_name\": \"best_model\",\n",
    "#     \"res_file_save_name\": \"logs/D2D/panda_reach_dense/distance_threshold_0_01/her/b_1/sac_her_10hz_128_128_b_1_1e5steps_seed_1_singleRL\"\n",
    "# }\n",
    "\n",
    "# # 调用 evaluate_distance 函数\n",
    "# evaluate_distance(args)"
   ]
  }
 ],
 "metadata": {
  "kernelspec": {
   "display_name": "new_gymnasium",
   "language": "python",
   "name": "python3"
  },
  "language_info": {
   "codemirror_mode": {
    "name": "ipython",
    "version": 3
   },
   "file_extension": ".py",
   "mimetype": "text/x-python",
   "name": "python",
   "nbconvert_exporter": "python",
   "pygments_lexer": "ipython3",
   "version": "3.12.0"
  }
 },
 "nbformat": 4,
 "nbformat_minor": 2
}
