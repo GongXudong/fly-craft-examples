{
 "cells": [
  {
   "cell_type": "code",
   "execution_count": null,
   "metadata": {},
   "outputs": [],
   "source": [
    "from typing import List\n",
    "import numpy as np\n",
    "import pandas as pd\n"
   ]
  },
  {
   "cell_type": "code",
   "execution_count": 5,
   "metadata": {},
   "outputs": [
    {
     "data": {
      "text/plain": [
       "array([210.2, -15.3,  30.8])"
      ]
     },
     "execution_count": 5,
     "metadata": {},
     "output_type": "execute_result"
    }
   ],
   "source": [
    "a = np.array([210.2, -15.3, 30.8])\n",
    "a"
   ]
  },
  {
   "cell_type": "code",
   "execution_count": 12,
   "metadata": {},
   "outputs": [
    {
     "data": {
      "text/plain": [
       "'210_-15_31'"
      ]
     },
     "execution_count": 12,
     "metadata": {},
     "output_type": "execute_result"
    }
   ],
   "source": [
    "'_'.join(np.round(a).astype(int).astype(str).tolist())"
   ]
  },
  {
   "cell_type": "code",
   "execution_count": 2,
   "metadata": {},
   "outputs": [
    {
     "data": {
      "text/html": [
       "<div>\n",
       "<style scoped>\n",
       "    .dataframe tbody tr th:only-of-type {\n",
       "        vertical-align: middle;\n",
       "    }\n",
       "\n",
       "    .dataframe tbody tr th {\n",
       "        vertical-align: top;\n",
       "    }\n",
       "\n",
       "    .dataframe thead th {\n",
       "        text-align: right;\n",
       "    }\n",
       "</style>\n",
       "<table border=\"1\" class=\"dataframe\">\n",
       "  <thead>\n",
       "    <tr style=\"text-align: right;\">\n",
       "      <th></th>\n",
       "      <th>dg_v</th>\n",
       "      <th>dg_mu</th>\n",
       "      <th>dg_chi</th>\n",
       "      <th>is_success</th>\n",
       "      <th>termination</th>\n",
       "      <th>cumulative_reward</th>\n",
       "      <th>episode_length</th>\n",
       "    </tr>\n",
       "  </thead>\n",
       "  <tbody>\n",
       "    <tr>\n",
       "      <th>0</th>\n",
       "      <td>199.549820</td>\n",
       "      <td>-25.724865</td>\n",
       "      <td>-25.375884</td>\n",
       "      <td>True</td>\n",
       "      <td>reach_target_termination_single_step_based_on_...</td>\n",
       "      <td>-11.140033</td>\n",
       "      <td>43</td>\n",
       "    </tr>\n",
       "    <tr>\n",
       "      <th>1</th>\n",
       "      <td>157.850197</td>\n",
       "      <td>29.936245</td>\n",
       "      <td>35.102060</td>\n",
       "      <td>True</td>\n",
       "      <td>reach_target_termination_single_step_based_on_...</td>\n",
       "      <td>-21.608956</td>\n",
       "      <td>53</td>\n",
       "    </tr>\n",
       "    <tr>\n",
       "      <th>2</th>\n",
       "      <td>200.728458</td>\n",
       "      <td>-2.096122</td>\n",
       "      <td>55.447607</td>\n",
       "      <td>True</td>\n",
       "      <td>reach_target_termination_single_step_based_on_...</td>\n",
       "      <td>-15.224406</td>\n",
       "      <td>53</td>\n",
       "    </tr>\n",
       "    <tr>\n",
       "      <th>3</th>\n",
       "      <td>160.708104</td>\n",
       "      <td>8.845938</td>\n",
       "      <td>53.428039</td>\n",
       "      <td>True</td>\n",
       "      <td>reach_target_termination_single_step_based_on_...</td>\n",
       "      <td>-24.254431</td>\n",
       "      <td>62</td>\n",
       "    </tr>\n",
       "    <tr>\n",
       "      <th>4</th>\n",
       "      <td>225.113967</td>\n",
       "      <td>23.562130</td>\n",
       "      <td>-10.195357</td>\n",
       "      <td>True</td>\n",
       "      <td>reach_target_termination_single_step_based_on_...</td>\n",
       "      <td>-20.875950</td>\n",
       "      <td>72</td>\n",
       "    </tr>\n",
       "    <tr>\n",
       "      <th>...</th>\n",
       "      <td>...</td>\n",
       "      <td>...</td>\n",
       "      <td>...</td>\n",
       "      <td>...</td>\n",
       "      <td>...</td>\n",
       "      <td>...</td>\n",
       "      <td>...</td>\n",
       "    </tr>\n",
       "    <tr>\n",
       "      <th>995</th>\n",
       "      <td>248.387634</td>\n",
       "      <td>-19.872625</td>\n",
       "      <td>-43.540555</td>\n",
       "      <td>True</td>\n",
       "      <td>reach_target_termination_single_step_based_on_...</td>\n",
       "      <td>-47.437180</td>\n",
       "      <td>141</td>\n",
       "    </tr>\n",
       "    <tr>\n",
       "      <th>996</th>\n",
       "      <td>185.904054</td>\n",
       "      <td>-27.989139</td>\n",
       "      <td>-10.499371</td>\n",
       "      <td>True</td>\n",
       "      <td>reach_target_termination_single_step_based_on_...</td>\n",
       "      <td>-51.862724</td>\n",
       "      <td>209</td>\n",
       "    </tr>\n",
       "    <tr>\n",
       "      <th>997</th>\n",
       "      <td>203.062870</td>\n",
       "      <td>-10.779430</td>\n",
       "      <td>-0.223126</td>\n",
       "      <td>True</td>\n",
       "      <td>reach_target_termination_single_step_based_on_...</td>\n",
       "      <td>-15.572196</td>\n",
       "      <td>109</td>\n",
       "    </tr>\n",
       "    <tr>\n",
       "      <th>998</th>\n",
       "      <td>160.140455</td>\n",
       "      <td>15.131237</td>\n",
       "      <td>37.601617</td>\n",
       "      <td>True</td>\n",
       "      <td>reach_target_termination_single_step_based_on_...</td>\n",
       "      <td>-24.790617</td>\n",
       "      <td>96</td>\n",
       "    </tr>\n",
       "    <tr>\n",
       "      <th>999</th>\n",
       "      <td>224.859821</td>\n",
       "      <td>27.408439</td>\n",
       "      <td>55.606827</td>\n",
       "      <td>True</td>\n",
       "      <td>reach_target_termination_single_step_based_on_...</td>\n",
       "      <td>-39.715289</td>\n",
       "      <td>126</td>\n",
       "    </tr>\n",
       "  </tbody>\n",
       "</table>\n",
       "<p>1000 rows × 7 columns</p>\n",
       "</div>"
      ],
      "text/plain": [
       "           dg_v      dg_mu     dg_chi  is_success  \\\n",
       "0    199.549820 -25.724865 -25.375884        True   \n",
       "1    157.850197  29.936245  35.102060        True   \n",
       "2    200.728458  -2.096122  55.447607        True   \n",
       "3    160.708104   8.845938  53.428039        True   \n",
       "4    225.113967  23.562130 -10.195357        True   \n",
       "..          ...        ...        ...         ...   \n",
       "995  248.387634 -19.872625 -43.540555        True   \n",
       "996  185.904054 -27.989139 -10.499371        True   \n",
       "997  203.062870 -10.779430  -0.223126        True   \n",
       "998  160.140455  15.131237  37.601617        True   \n",
       "999  224.859821  27.408439  55.606827        True   \n",
       "\n",
       "                                           termination  cumulative_reward  \\\n",
       "0    reach_target_termination_single_step_based_on_...         -11.140033   \n",
       "1    reach_target_termination_single_step_based_on_...         -21.608956   \n",
       "2    reach_target_termination_single_step_based_on_...         -15.224406   \n",
       "3    reach_target_termination_single_step_based_on_...         -24.254431   \n",
       "4    reach_target_termination_single_step_based_on_...         -20.875950   \n",
       "..                                                 ...                ...   \n",
       "995  reach_target_termination_single_step_based_on_...         -47.437180   \n",
       "996  reach_target_termination_single_step_based_on_...         -51.862724   \n",
       "997  reach_target_termination_single_step_based_on_...         -15.572196   \n",
       "998  reach_target_termination_single_step_based_on_...         -24.790617   \n",
       "999  reach_target_termination_single_step_based_on_...         -39.715289   \n",
       "\n",
       "     episode_length  \n",
       "0                43  \n",
       "1                53  \n",
       "2                53  \n",
       "3                62  \n",
       "4                72  \n",
       "..              ...  \n",
       "995             141  \n",
       "996             209  \n",
       "997             109  \n",
       "998              96  \n",
       "999             126  \n",
       "\n",
       "[1000 rows x 7 columns]"
      ]
     },
     "execution_count": 2,
     "metadata": {},
     "output_type": "execute_result"
    }
   ],
   "source": [
    "pd.read_csv(\"/home/gxd/code/fly-craft-examples/train_scripts/reward_norm/evaluations/results/end2end_medium_success_model_128_128_2e8steps_lambda_1e-3_5.csv\")"
   ]
  },
  {
   "cell_type": "code",
   "execution_count": null,
   "metadata": {},
   "outputs": [],
   "source": [
    "is_success_name: str = \"is_success\"\n",
    "key_names: List[str] = [\"dg_v\", \"dg_mu\", \"dg_chi\"]"
   ]
  }
 ],
 "metadata": {
  "kernelspec": {
   "display_name": "disc",
   "language": "python",
   "name": "python3"
  },
  "language_info": {
   "codemirror_mode": {
    "name": "ipython",
    "version": 3
   },
   "file_extension": ".py",
   "mimetype": "text/x-python",
   "name": "python",
   "nbconvert_exporter": "python",
   "pygments_lexer": "ipython3",
   "version": "3.12.7"
  }
 },
 "nbformat": 4,
 "nbformat_minor": 2
}
